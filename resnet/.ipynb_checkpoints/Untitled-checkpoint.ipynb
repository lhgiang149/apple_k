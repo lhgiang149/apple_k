{
 "cells": [
  {
   "cell_type": "code",
   "execution_count": 42,
   "metadata": {
    "scrolled": true
   },
   "outputs": [
    {
     "name": "stdout",
     "output_type": "stream",
     "text": [
      "Epoch 1/10\n",
      "142/142 [==============================] - 29s 201ms/step - loss: 1.3713 - accuracy: 0.4225 - val_loss: 1.5475 - val_accuracy: 0.3325\n",
      "Epoch 2/10\n",
      "142/142 [==============================] - 27s 194ms/step - loss: 1.0832 - accuracy: 0.5712 - val_loss: 1.2794 - val_accuracy: 0.3375\n",
      "Epoch 3/10\n",
      "142/142 [==============================] - 31s 222ms/step - loss: 1.0283 - accuracy: 0.5884 - val_loss: 1.4235 - val_accuracy: 0.0925\n",
      "Epoch 4/10\n",
      "142/142 [==============================] - 32s 227ms/step - loss: 0.9819 - accuracy: 0.6135 - val_loss: 1.2046 - val_accuracy: 0.2750\n",
      "Epoch 5/10\n",
      "142/142 [==============================] - 31s 222ms/step - loss: 0.8892 - accuracy: 0.6448 - val_loss: 1.3675 - val_accuracy: 0.2325\n",
      "Epoch 6/10\n",
      "142/142 [==============================] - 32s 228ms/step - loss: 0.8963 - accuracy: 0.6635 - val_loss: 1.3041 - val_accuracy: 0.2775\n",
      "Epoch 7/10\n",
      "142/142 [==============================] - 32s 229ms/step - loss: 0.9957 - accuracy: 0.6307 - val_loss: 1.3622 - val_accuracy: 0.2725\n",
      "Epoch 8/10\n",
      "142/142 [==============================] - 33s 232ms/step - loss: 0.8438 - accuracy: 0.6808 - val_loss: 1.2194 - val_accuracy: 0.2775\n",
      "Epoch 9/10\n",
      "142/142 [==============================] - 34s 236ms/step - loss: 0.8827 - accuracy: 0.6526 - val_loss: 1.2119 - val_accuracy: 0.2800\n",
      "Epoch 10/10\n",
      "142/142 [==============================] - 32s 228ms/step - loss: 0.8468 - accuracy: 0.6854 - val_loss: 1.3183 - val_accuracy: 0.2775\n"
     ]
    }
   ],
   "source": [
    "import numpy as np\n",
    "\n",
    "import tensorflow as tf\n",
    "\n",
    "from data_processing import *\n",
    "import keras\n",
    "import keras.backend as K\n",
    "\n",
    "from keras.optimizers import Adam,SGD\n",
    "from keras.callbacks import TensorBoard, ModelCheckpoint,ReduceLROnPlateau\n",
    "from keras.preprocessing.image import ImageDataGenerator\n",
    "\n",
    "from sklearn.model_selection import train_test_split\n",
    "\n",
    "from model import ResNet50\n",
    "\n",
    "def _main():\n",
    "    image_path = 'C:/Users/emage/OneDrive/Desktop/apple_k/data/train_image/'\n",
    "    labels_path = 'C:/Users/emage/OneDrive/Desktop/apple_k/data/train.csv'\n",
    "    csv = pd.read_csv(labels_path)\n",
    "    image_named = np.array(csv['image_id'])\n",
    "    y = csv.loc[:, 'healthy':].values\n",
    "    \n",
    "    train ,val, y_train,y_val = train_test_split(image_named, y, test_size = 0.22, random_state = 42, shuffle = True)\n",
    "\n",
    "    freeze = 1\n",
    "\n",
    "    # step = 607\n",
    "    num_train = 1420\n",
    "    num_val = 401\n",
    "    \n",
    "    log_dir = 'log/imageNet/letter_image_Relu_only_Dense/'\n",
    "    check_path(log_dir)\n",
    "    weights_path = 'imageNet'\n",
    "\n",
    "    model = ResNet50(weights = 'imageNet')\n",
    "    \n",
    "    \n",
    "    # # temporary use Adam and\n",
    "    adam = Adam(lr = 0.001)\n",
    "    # logging = TensorBoard(log_dir=log_dir)\n",
    "    checkpoint = ModelCheckpoint(log_dir + 'ep{epoch:03d}-loss{loss:.3f}-val_loss{val_loss:.3f}.h5',\n",
    "        monitor='val_loss', save_weights_only=True, save_best_only=True, mode = 'min')\n",
    "   \n",
    "    reduce_lr = ReduceLROnPlateau(monitor='val_loss', factor=0.1, patience=5, verbose=1, min_lr = 1e-6)\n",
    "\n",
    "\n",
    "    # Freeze FC layers\n",
    "    for i in range((len(model.layers)-freeze)):\n",
    "        model.layers[i].trainable = False\n",
    "\n",
    "    # model.compile(optimizer = adam, \n",
    "    #             loss = 'categorical_crossentropy',\n",
    "    #             # loss = [categorical_focal_loss(alpha=.25, gamma=2)],\n",
    "    #             metrics = ['accuracy'])\n",
    "    model.compile(optimizer = adam, \n",
    "            loss = 'categorical_crossentropy',\n",
    "            metrics = ['accuracy'])\n",
    "\n",
    "    batch_size  = 10\n",
    "    \n",
    "    history = model.fit_generator(train_generator(image_path, train, batch_size, y_train, num_train),\n",
    "        epochs = 10, \n",
    "        steps_per_epoch = num_train//batch_size, \n",
    "        validation_data = val_generator(image_path, val, batch_size, y_val, num_val),\n",
    "        validation_steps = num_val//batch_size,\n",
    "        initial_epoch = 0,\n",
    "        verbose = 1,\n",
    "        callbacks=[checkpoint])\n",
    "    model.save_weights(log_dir+'model.h5')\n",
    "    import pickle\n",
    "    with open('history', 'wb') as f:\n",
    "        pickle.dump(history.history, f)\n",
    "\n",
    "\n",
    "def check_path(path):\n",
    "    os.makedirs(path) if not os.path.exists(path) else None\n",
    "\n",
    "if __name__ == \"__main__\":\n",
    "    h = _main()"
   ]
  },
  {
   "cell_type": "code",
   "execution_count": 23,
   "metadata": {},
   "outputs": [
    {
     "name": "stdout",
     "output_type": "stream",
     "text": [
      "{'val_loss': [2.093095541000366], 'val_accuracy': [0.2800000011920929], 'loss': [1.2988779242609587], 'accuracy': [0.45774648]}\n",
      "<class 'numpy.float32'>\n"
     ]
    }
   ],
   "source": [
    "import json\n",
    "print(h.history)\n",
    "print(type(h.history['accuracy'][0]))\n",
    "# with open('history.json', 'w') as f:\n",
    "#     json.dump(h.history,f)\n",
    "import pickle\n",
    "with open('history', 'wb') as f:\n",
    "    pickle.dump(h.history, f)"
   ]
  },
  {
   "cell_type": "code",
   "execution_count": 43,
   "metadata": {},
   "outputs": [],
   "source": [
    "\n",
    "a = pickle.load(open('history','rb'))"
   ]
  },
  {
   "cell_type": "code",
   "execution_count": 24,
   "metadata": {},
   "outputs": [],
   "source": [
    "from model import *\n",
    "\n",
    "weight_path = r'C:\\Users\\emage\\OneDrive\\Desktop\\apple_k\\resnet\\log\\imageNet\\non_letter_image_Relu\\model.h5'\n",
    "resnet = ResNet50(weights = weight_path, activate = 'relu')\n",
    "\n"
   ]
  },
  {
   "cell_type": "code",
   "execution_count": 64,
   "metadata": {},
   "outputs": [],
   "source": [
    "import cv2\n",
    "from keras.applications.resnet50 import preprocess_input\n",
    "image_path =  'C:/Users/emage/OneDrive/Desktop/apple_k/data/test_image/1379.jpg'\n",
    "image = cv2.imread(image_path)\n",
    "image = cv2.resize(image, (224,224))\n",
    "image = image/255\n",
    "# image = np.reshape(image_path, [1]+list(image.shape))\n",
    "x = np.expand_dims(image, axis=0)\n",
    "# x = preprocess_input(x)\n",
    "# print(x.shape)\n",
    "a = resnet.predict(x)\n",
    "\n"
   ]
  },
  {
   "cell_type": "code",
   "execution_count": 65,
   "metadata": {},
   "outputs": [
    {
     "data": {
      "text/plain": [
       "array([[4.2522384e-05, 3.6560090e-03, 4.9648675e-06, 9.9629647e-01]],\n",
       "      dtype=float32)"
      ]
     },
     "execution_count": 65,
     "metadata": {},
     "output_type": "execute_result"
    }
   ],
   "source": [
    "a"
   ]
  },
  {
   "cell_type": "code",
   "execution_count": 61,
   "metadata": {},
   "outputs": [
    {
     "name": "stdout",
     "output_type": "stream",
     "text": [
      "0.002445779079861111\n",
      "0.10878753662109375\n"
     ]
    }
   ],
   "source": [
    "import cv2\n",
    "import numpy as np\n",
    "import time\n",
    "\n",
    "t1 = time.time()\n",
    "\n",
    "image1 = r'C:/Users/emage/OneDrive/Desktop/cindy.png'\n",
    "image2 =  r'C:\\Users\\emage\\OneDrive\\Desktop\\duy.png'\n",
    "\n",
    "image1 = r'C:\\Users\\emage\\OneDrive\\Desktop\\imageHari\\full_process-CY\\milestone_04.png'\n",
    "image2 = r'C:\\Users\\emage\\OneDrive\\Desktop\\imageHari\\full_process-v1\\milestone_04.png'\n",
    "\n",
    "image1 = cv2.imread(image1)\n",
    "image2 = cv2.imread(image2)\n",
    "\n",
    "image1 = np.copy(image1[:960,:1600,:])\n",
    "image2 = np.copy(image2[:960,:1600,:])\n",
    "\n",
    "# res1 = image1[:,:,:] - image2[:,:,:]\n",
    "\n",
    "image1 = cv2.cvtColor(image1, cv2.COLOR_BGR2HSV)/180\n",
    "image2 = cv2.cvtColor(image2, cv2.COLOR_BGR2HSV)/180\n",
    "\n",
    "# print(image1[:,:,0])\n",
    "# print(image2[:,:,0])\n",
    "\n",
    "w,h = image1.shape[:2]\n",
    "\n",
    "res2 = np.sum(np.abs(image1[:,:,0] - image2[:,:,0]))/(w*h)\n",
    "\n",
    "# print(np.sum(res1))\n",
    "print(res2)\n",
    "\n",
    "# cv2.imshow('w1', image1)\n",
    "# cv2.imshow('w2', image2)\n",
    "# cv2.waitKey()\n",
    "# cv2.destroyAllWindows()\n",
    "\n",
    "print(time.time()-t1)"
   ]
  },
  {
   "cell_type": "code",
   "execution_count": null,
   "metadata": {},
   "outputs": [],
   "source": []
  }
 ],
 "metadata": {
  "kernelspec": {
   "display_name": "Python 3",
   "language": "python",
   "name": "python3"
  },
  "language_info": {
   "codemirror_mode": {
    "name": "ipython",
    "version": 3
   },
   "file_extension": ".py",
   "mimetype": "text/x-python",
   "name": "python",
   "nbconvert_exporter": "python",
   "pygments_lexer": "ipython3",
   "version": "3.7.6"
  }
 },
 "nbformat": 4,
 "nbformat_minor": 4
}
