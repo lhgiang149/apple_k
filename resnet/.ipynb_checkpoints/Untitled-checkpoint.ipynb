{
 "cells": [
  {
   "cell_type": "code",
   "execution_count": 42,
   "metadata": {
    "scrolled": true
   },
   "outputs": [
    {
     "name": "stdout",
     "output_type": "stream",
     "text": [
      "Epoch 1/10\n",
      "142/142 [==============================] - 29s 201ms/step - loss: 1.3713 - accuracy: 0.4225 - val_loss: 1.5475 - val_accuracy: 0.3325\n",
      "Epoch 2/10\n",
      "142/142 [==============================] - 27s 194ms/step - loss: 1.0832 - accuracy: 0.5712 - val_loss: 1.2794 - val_accuracy: 0.3375\n",
      "Epoch 3/10\n",
      "142/142 [==============================] - 31s 222ms/step - loss: 1.0283 - accuracy: 0.5884 - val_loss: 1.4235 - val_accuracy: 0.0925\n",
      "Epoch 4/10\n",
      "142/142 [==============================] - 32s 227ms/step - loss: 0.9819 - accuracy: 0.6135 - val_loss: 1.2046 - val_accuracy: 0.2750\n",
      "Epoch 5/10\n",
      "142/142 [==============================] - 31s 222ms/step - loss: 0.8892 - accuracy: 0.6448 - val_loss: 1.3675 - val_accuracy: 0.2325\n",
      "Epoch 6/10\n",
      "142/142 [==============================] - 32s 228ms/step - loss: 0.8963 - accuracy: 0.6635 - val_loss: 1.3041 - val_accuracy: 0.2775\n",
      "Epoch 7/10\n",
      "142/142 [==============================] - 32s 229ms/step - loss: 0.9957 - accuracy: 0.6307 - val_loss: 1.3622 - val_accuracy: 0.2725\n",
      "Epoch 8/10\n",
      "142/142 [==============================] - 33s 232ms/step - loss: 0.8438 - accuracy: 0.6808 - val_loss: 1.2194 - val_accuracy: 0.2775\n",
      "Epoch 9/10\n",
      "142/142 [==============================] - 34s 236ms/step - loss: 0.8827 - accuracy: 0.6526 - val_loss: 1.2119 - val_accuracy: 0.2800\n",
      "Epoch 10/10\n",
      "142/142 [==============================] - 32s 228ms/step - loss: 0.8468 - accuracy: 0.6854 - val_loss: 1.3183 - val_accuracy: 0.2775\n"
     ]
    }
   ],
   "source": [
    "import numpy as np\n",
    "\n",
    "import tensorflow as tf\n",
    "\n",
    "from data_processing import *\n",
    "import keras\n",
    "import keras.backend as K\n",
    "\n",
    "from keras.optimizers import Adam,SGD\n",
    "from keras.callbacks import TensorBoard, ModelCheckpoint,ReduceLROnPlateau\n",
    "from keras.preprocessing.image import ImageDataGenerator\n",
    "\n",
    "from sklearn.model_selection import train_test_split\n",
    "\n",
    "from model import ResNet50\n",
    "\n",
    "def _main():\n",
    "    image_path = 'C:/Users/emage/OneDrive/Desktop/apple_k/data/train_image/'\n",
    "    labels_path = 'C:/Users/emage/OneDrive/Desktop/apple_k/data/train.csv'\n",
    "    csv = pd.read_csv(labels_path)\n",
    "    image_named = np.array(csv['image_id'])\n",
    "    y = csv.loc[:, 'healthy':].values\n",
    "    \n",
    "    train ,val, y_train,y_val = train_test_split(image_named, y, test_size = 0.22, random_state = 42, shuffle = True)\n",
    "\n",
    "    freeze = 1\n",
    "\n",
    "    # step = 607\n",
    "    num_train = 1420\n",
    "    num_val = 401\n",
    "    \n",
    "    log_dir = 'log/imageNet/letter_image_Relu_only_Dense/'\n",
    "    check_path(log_dir)\n",
    "    weights_path = 'imageNet'\n",
    "\n",
    "    model = ResNet50(weights = 'imageNet')\n",
    "    \n",
    "    \n",
    "    # # temporary use Adam and\n",
    "    adam = Adam(lr = 0.001)\n",
    "    # logging = TensorBoard(log_dir=log_dir)\n",
    "    checkpoint = ModelCheckpoint(log_dir + 'ep{epoch:03d}-loss{loss:.3f}-val_loss{val_loss:.3f}.h5',\n",
    "        monitor='val_loss', save_weights_only=True, save_best_only=True, mode = 'min')\n",
    "   \n",
    "    reduce_lr = ReduceLROnPlateau(monitor='val_loss', factor=0.1, patience=5, verbose=1, min_lr = 1e-6)\n",
    "\n",
    "\n",
    "    # Freeze FC layers\n",
    "    for i in range((len(model.layers)-freeze)):\n",
    "        model.layers[i].trainable = False\n",
    "\n",
    "    # model.compile(optimizer = adam, \n",
    "    #             loss = 'categorical_crossentropy',\n",
    "    #             # loss = [categorical_focal_loss(alpha=.25, gamma=2)],\n",
    "    #             metrics = ['accuracy'])\n",
    "    model.compile(optimizer = adam, \n",
    "            loss = 'categorical_crossentropy',\n",
    "            metrics = ['accuracy'])\n",
    "\n",
    "    batch_size  = 10\n",
    "    \n",
    "    history = model.fit_generator(train_generator(image_path, train, batch_size, y_train, num_train),\n",
    "        epochs = 10, \n",
    "        steps_per_epoch = num_train//batch_size, \n",
    "        validation_data = val_generator(image_path, val, batch_size, y_val, num_val),\n",
    "        validation_steps = num_val//batch_size,\n",
    "        initial_epoch = 0,\n",
    "        verbose = 1,\n",
    "        callbacks=[checkpoint])\n",
    "    model.save_weights(log_dir+'model.h5')\n",
    "    import pickle\n",
    "    with open('history', 'wb') as f:\n",
    "        pickle.dump(history.history, f)\n",
    "\n",
    "\n",
    "def check_path(path):\n",
    "    os.makedirs(path) if not os.path.exists(path) else None\n",
    "\n",
    "if __name__ == \"__main__\":\n",
    "    h = _main()"
   ]
  },
  {
   "cell_type": "code",
   "execution_count": 23,
   "metadata": {},
   "outputs": [
    {
     "name": "stdout",
     "output_type": "stream",
     "text": [
      "{'val_loss': [2.093095541000366], 'val_accuracy': [0.2800000011920929], 'loss': [1.2988779242609587], 'accuracy': [0.45774648]}\n",
      "<class 'numpy.float32'>\n"
     ]
    }
   ],
   "source": [
    "import json\n",
    "print(h.history)\n",
    "print(type(h.history['accuracy'][0]))\n",
    "# with open('history.json', 'w') as f:\n",
    "#     json.dump(h.history,f)\n",
    "import pickle\n",
    "with open('history', 'wb') as f:\n",
    "    pickle.dump(h.history, f)"
   ]
  },
  {
   "cell_type": "code",
   "execution_count": 43,
   "metadata": {},
   "outputs": [],
   "source": [
    "\n",
    "a = pickle.load(open('history','rb'))"
   ]
  },
  {
   "cell_type": "code",
   "execution_count": 1,
   "metadata": {},
   "outputs": [
    {
     "name": "stderr",
     "output_type": "stream",
     "text": [
      "Using TensorFlow backend.\n",
      "c:\\users\\admins\\anaconda3\\envs\\ebox\\lib\\site-packages\\tensorflow\\python\\framework\\dtypes.py:516: FutureWarning: Passing (type, 1) or '1type' as a synonym of type is deprecated; in a future version of numpy, it will be understood as (type, (1,)) / '(1,)type'.\n",
      "  _np_qint8 = np.dtype([(\"qint8\", np.int8, 1)])\n",
      "c:\\users\\admins\\anaconda3\\envs\\ebox\\lib\\site-packages\\tensorflow\\python\\framework\\dtypes.py:517: FutureWarning: Passing (type, 1) or '1type' as a synonym of type is deprecated; in a future version of numpy, it will be understood as (type, (1,)) / '(1,)type'.\n",
      "  _np_quint8 = np.dtype([(\"quint8\", np.uint8, 1)])\n",
      "c:\\users\\admins\\anaconda3\\envs\\ebox\\lib\\site-packages\\tensorflow\\python\\framework\\dtypes.py:518: FutureWarning: Passing (type, 1) or '1type' as a synonym of type is deprecated; in a future version of numpy, it will be understood as (type, (1,)) / '(1,)type'.\n",
      "  _np_qint16 = np.dtype([(\"qint16\", np.int16, 1)])\n",
      "c:\\users\\admins\\anaconda3\\envs\\ebox\\lib\\site-packages\\tensorflow\\python\\framework\\dtypes.py:519: FutureWarning: Passing (type, 1) or '1type' as a synonym of type is deprecated; in a future version of numpy, it will be understood as (type, (1,)) / '(1,)type'.\n",
      "  _np_quint16 = np.dtype([(\"quint16\", np.uint16, 1)])\n",
      "c:\\users\\admins\\anaconda3\\envs\\ebox\\lib\\site-packages\\tensorflow\\python\\framework\\dtypes.py:520: FutureWarning: Passing (type, 1) or '1type' as a synonym of type is deprecated; in a future version of numpy, it will be understood as (type, (1,)) / '(1,)type'.\n",
      "  _np_qint32 = np.dtype([(\"qint32\", np.int32, 1)])\n",
      "c:\\users\\admins\\anaconda3\\envs\\ebox\\lib\\site-packages\\tensorflow\\python\\framework\\dtypes.py:525: FutureWarning: Passing (type, 1) or '1type' as a synonym of type is deprecated; in a future version of numpy, it will be understood as (type, (1,)) / '(1,)type'.\n",
      "  np_resource = np.dtype([(\"resource\", np.ubyte, 1)])\n",
      "c:\\users\\admins\\anaconda3\\envs\\ebox\\lib\\site-packages\\tensorboard\\compat\\tensorflow_stub\\dtypes.py:541: FutureWarning: Passing (type, 1) or '1type' as a synonym of type is deprecated; in a future version of numpy, it will be understood as (type, (1,)) / '(1,)type'.\n",
      "  _np_qint8 = np.dtype([(\"qint8\", np.int8, 1)])\n",
      "c:\\users\\admins\\anaconda3\\envs\\ebox\\lib\\site-packages\\tensorboard\\compat\\tensorflow_stub\\dtypes.py:542: FutureWarning: Passing (type, 1) or '1type' as a synonym of type is deprecated; in a future version of numpy, it will be understood as (type, (1,)) / '(1,)type'.\n",
      "  _np_quint8 = np.dtype([(\"quint8\", np.uint8, 1)])\n",
      "c:\\users\\admins\\anaconda3\\envs\\ebox\\lib\\site-packages\\tensorboard\\compat\\tensorflow_stub\\dtypes.py:543: FutureWarning: Passing (type, 1) or '1type' as a synonym of type is deprecated; in a future version of numpy, it will be understood as (type, (1,)) / '(1,)type'.\n",
      "  _np_qint16 = np.dtype([(\"qint16\", np.int16, 1)])\n",
      "c:\\users\\admins\\anaconda3\\envs\\ebox\\lib\\site-packages\\tensorboard\\compat\\tensorflow_stub\\dtypes.py:544: FutureWarning: Passing (type, 1) or '1type' as a synonym of type is deprecated; in a future version of numpy, it will be understood as (type, (1,)) / '(1,)type'.\n",
      "  _np_quint16 = np.dtype([(\"quint16\", np.uint16, 1)])\n",
      "c:\\users\\admins\\anaconda3\\envs\\ebox\\lib\\site-packages\\tensorboard\\compat\\tensorflow_stub\\dtypes.py:545: FutureWarning: Passing (type, 1) or '1type' as a synonym of type is deprecated; in a future version of numpy, it will be understood as (type, (1,)) / '(1,)type'.\n",
      "  _np_qint32 = np.dtype([(\"qint32\", np.int32, 1)])\n",
      "c:\\users\\admins\\anaconda3\\envs\\ebox\\lib\\site-packages\\tensorboard\\compat\\tensorflow_stub\\dtypes.py:550: FutureWarning: Passing (type, 1) or '1type' as a synonym of type is deprecated; in a future version of numpy, it will be understood as (type, (1,)) / '(1,)type'.\n",
      "  np_resource = np.dtype([(\"resource\", np.ubyte, 1)])\n"
     ]
    },
    {
     "name": "stdout",
     "output_type": "stream",
     "text": [
      "WARNING:tensorflow:From c:\\users\\admins\\anaconda3\\envs\\ebox\\lib\\site-packages\\keras\\backend\\tensorflow_backend.py:4070: The name tf.nn.max_pool is deprecated. Please use tf.nn.max_pool2d instead.\n",
      "\n"
     ]
    }
   ],
   "source": [
    "from model import *\n",
    "from PIL import Image\n",
    "\n",
    "weight_path = r'C:\\Users\\ADMINS\\Desktop\\apple_k\\resnet\\model\\collect_model\\drop\\swish\\96.8_per.h5'\n",
    "resnet = ResNet50(weights = weight_path, activate = 'swish', dropout_rate = 0.5)\n",
    "\n",
    "def readAndProcess(image_path):\n",
    "    path = image_path\n",
    "    im = Image.open(path)\n",
    "    im = im.resize((224,224), Image.BICUBIC)\n",
    "    im = np.array(im)\n",
    "    # im = np.array(letterbox_image(im, (224,224)))\n",
    "    # im = np.reshape(im,[1]+list(im.shape))\n",
    "    return im "
   ]
  },
  {
   "cell_type": "code",
   "execution_count": 13,
   "metadata": {},
   "outputs": [
    {
     "data": {
      "text/plain": [
       "array([[0.02, 0.22, 0.01, 0.75]], dtype=float32)"
      ]
     },
     "execution_count": 13,
     "metadata": {},
     "output_type": "execute_result"
    }
   ],
   "source": [
    "np.round(a,2)"
   ]
  },
  {
   "cell_type": "code",
   "execution_count": 7,
   "metadata": {},
   "outputs": [
    {
     "name": "stdout",
     "output_type": "stream",
     "text": [
      "[0.1 0.2 0.4 0.9]\n"
     ]
    }
   ],
   "source": [
    "b = np.array([0.1,0.2,0.4,0.9])\n",
    "print(np.round(b,2))"
   ]
  },
  {
   "cell_type": "code",
   "execution_count": 61,
   "metadata": {},
   "outputs": [
    {
     "name": "stdout",
     "output_type": "stream",
     "text": [
      "0.002445779079861111\n",
      "0.10878753662109375\n"
     ]
    }
   ],
   "source": [
    "import cv2\n",
    "import numpy as np\n",
    "import time\n",
    "\n",
    "t1 = time.time()\n",
    "\n",
    "image1 = r'C:/Users/emage/OneDrive/Desktop/cindy.png'\n",
    "image2 =  r'C:\\Users\\emage\\OneDrive\\Desktop\\duy.png'\n",
    "\n",
    "image1 = r'C:\\Users\\emage\\OneDrive\\Desktop\\imageHari\\full_process-CY\\milestone_04.png'\n",
    "image2 = r'C:\\Users\\emage\\OneDrive\\Desktop\\imageHari\\full_process-v1\\milestone_04.png'\n",
    "\n",
    "image1 = cv2.imread(image1)\n",
    "image2 = cv2.imread(image2)\n",
    "\n",
    "image1 = np.copy(image1[:960,:1600,:])\n",
    "image2 = np.copy(image2[:960,:1600,:])\n",
    "\n",
    "# res1 = image1[:,:,:] - image2[:,:,:]\n",
    "\n",
    "image1 = cv2.cvtColor(image1, cv2.COLOR_BGR2HSV)/180\n",
    "image2 = cv2.cvtColor(image2, cv2.COLOR_BGR2HSV)/180\n",
    "\n",
    "# print(image1[:,:,0])\n",
    "# print(image2[:,:,0])\n",
    "\n",
    "w,h = image1.shape[:2]\n",
    "\n",
    "res2 = np.sum(np.abs(image1[:,:,0] - image2[:,:,0]))/(w*h)\n",
    "\n",
    "# print(np.sum(res1))\n",
    "print(res2)\n",
    "\n",
    "# cv2.imshow('w1', image1)\n",
    "# cv2.imshow('w2', image2)\n",
    "# cv2.waitKey()\n",
    "# cv2.destroyAllWindows()\n",
    "\n",
    "print(time.time()-t1)"
   ]
  },
  {
   "cell_type": "code",
   "execution_count": 69,
   "metadata": {},
   "outputs": [
    {
     "name": "stdout",
     "output_type": "stream",
     "text": [
      "[0. 0. 1. 0.]\n"
     ]
    }
   ],
   "source": [
    "import cv2\n",
    "import numpy as np\n",
    "from keras.applications.resnet50 import preprocess_input\n",
    "image_path =  r'C:\\Users\\ADMINS\\Desktop/apple_k/data/train_image/3.jpg'\n",
    "image = readAndProcess(image_path)\n",
    "# image = image/255\n",
    "# image = np.reshape(image_path, [1]+list(image.shape))\n",
    "x = np.expand_dims(image, axis=0)\n",
    "# x = preprocess_input(x)\n",
    "# print(x.shape)\n",
    "a = resnet.predict(x)\n",
    "b = (list(np.round(a,2)))\n",
    "print(b[0])\n",
    "# for i in b:\n",
    "#     print(i)\n",
    "# print(list(a))\n",
    "# cv2.imshow('w',image)\n",
    "# cv2.waitKey()\n",
    "# cv2.destroyAllWindows()\n"
   ]
  },
  {
   "cell_type": "code",
   "execution_count": 2,
   "metadata": {},
   "outputs": [
    {
     "name": "stdout",
     "output_type": "stream",
     "text": [
      "WARNING:tensorflow:From c:\\users\\emage\\.conda\\envs\\apple\\lib\\site-packages\\keras\\backend\\tensorflow_backend.py:422: The name tf.global_variables is deprecated. Please use tf.compat.v1.global_variables instead.\n",
      "\n",
      "(1821, 4)\n",
      "(1821, 4)\n"
     ]
    }
   ],
   "source": [
    "import pandas as pd\n",
    "import cv2\n",
    "import numpy as np\n",
    "from model import *\n",
    "from PIL import Image\n",
    "\n",
    "# weight_path = r'C:\\Users\\ADMINS\\Desktop\\apple_k\\resnet\\model\\collect_model\\drop\\swish\\96.8_per.h5'\n",
    "# weight_path = r'C:\\Users\\emage\\OneDrive\\Desktop\\95_per.h5'\n",
    "weight_path = r'C:\\Users\\emage\\OneDrive\\Desktop\\collect_model\\drop\\swish\\96.8_per.h5'\n",
    "resnet = ResNet50(weights = weight_path, activate = 'swish', dropout_rate = 0.3)\n",
    "\n",
    "def readAndProcess(image_path):\n",
    "    path = image_path\n",
    "    im = Image.open(path)\n",
    "    im = im.resize((224,224), Image.BICUBIC)\n",
    "    im = np.array(im)\n",
    "    im = im/255\n",
    "    # im = np.array(letterbox_image(im, (224,224)))\n",
    "    # im = np.reshape(im,[1]+list(im.shape))\n",
    "    return im \n",
    "\n",
    "image_path = 'C:/Users/emage/OneDrive/Desktop/apple_k/data/train_image/'\n",
    "test_path = 'C:/Users/emage/OneDrive/Desktop/apple_k/data/train.csv'\n",
    "\n",
    "csv = pd.read_csv(test_path)\n",
    "y = csv.loc[:, 'healthy':].values\n",
    "name = csv.image_id\n",
    "# csv['healthy'] = csv['multiple_diseases'] = csv['rust'] = csv['scab'] = 0\n",
    "# csv.reset_index()\n",
    "\n",
    "final = []\n",
    "for each in name:\n",
    "#     num = int(each.split('_')[-1])\n",
    "    num = each\n",
    "#     print(num)\n",
    "    path = image_path + str(each) +'.jpg'\n",
    "    image = readAndProcess(path)\n",
    "    image = np.expand_dims(image, axis=0)\n",
    "    result = list(np.round(resnet.predict(image),2))[0]\n",
    "    final.append(result)\n",
    "\n",
    "final = np.round(np.array(final)).astype(np.int)\n",
    "\n",
    "print(final.shape)\n",
    "print(y.shape)\n",
    "# csv.loc[0,1:]= np.array([1,2,3,4])\n",
    "# print(csv.head())\n",
    "# csv.to_csv (r'C:\\Users\\ADMINS\\Desktop\\result.csv', index = False, header=True)\n",
    "\n",
    "# print((name[0]))"
   ]
  },
  {
   "cell_type": "code",
   "execution_count": 18,
   "metadata": {},
   "outputs": [
    {
     "data": {
      "text/plain": [
       "(array([ 292,  316,  379,  381,  551,  857,  905, 1027, 1085, 1173, 1270,\n",
       "        1310, 1531, 1632, 1641, 1664, 1730, 1786], dtype=int64),)"
      ]
     },
     "execution_count": 18,
     "metadata": {},
     "output_type": "execute_result"
    }
   ],
   "source": [
    "np.where(np.sum(np.abs(y-final), axis = 1)!= 0)"
   ]
  },
  {
   "cell_type": "code",
   "execution_count": 41,
   "metadata": {},
   "outputs": [],
   "source": [
    "temp = [ 292,  316,  379,  381,  551,  857,  905, 1027, 1085, 1173, 1270,\n",
    "        1310, 1531, 1632, 1641, 1664, 1730, 1786]\n",
    "table=  ['Healthy', 'Both', 'Rust', 'Scab']\n",
    "for i in temp:\n",
    "    true_label = table[np.argmax(y[i])]\n",
    "    wrong_label = table[np.argmax(final[i])]\n",
    "    img_path = 'C:/Users/emage/OneDrive/Desktop/apple_k/data/train_image/'+str(i)+'.jpg'\n",
    "    image = cv2.imread(img_path)\n",
    "#     print(image.shape)\n",
    "    cv2.putText(image, 'True: ' +true_label, (60,70), cv2.FONT_HERSHEY_SIMPLEX, 3, (50,0,255), 3, cv2.LINE_AA)\n",
    "    cv2.putText(image, 'Predict: ' +wrong_label, (60,200), cv2.FONT_HERSHEY_SIMPLEX, 3, (250,0,255), 3, cv2.LINE_AA)\n",
    "    cv2.namedWindow('image',cv2.WINDOW_NORMAL)\n",
    "    cv2.resizeWindow('image', 900,500)\n",
    "    cv2.imshow('image',image)\n",
    "    cv2.waitKey()\n",
    "#     break\n",
    "cv2.destroyAllWindows()"
   ]
  },
  {
   "cell_type": "code",
   "execution_count": 17,
   "metadata": {},
   "outputs": [
    {
     "data": {
      "text/plain": [
       "array([0, 0, 0, ..., 0, 0, 0], dtype=int64)"
      ]
     },
     "execution_count": 17,
     "metadata": {},
     "output_type": "execute_result"
    }
   ],
   "source": [
    "np.sum(np.abs(y-final), axis = 1)"
   ]
  },
  {
   "cell_type": "code",
   "execution_count": 8,
   "metadata": {},
   "outputs": [
    {
     "name": "stdout",
     "output_type": "stream",
     "text": [
      "[[514   0   1   1]\n",
      " [  4  83   0   4]\n",
      " [  1   0 621   0]\n",
      " [  7   0   0 585]]\n",
      "1821\n",
      "0.9901153212520593\n"
     ]
    }
   ],
   "source": [
    "import sklearn.metrics as sk\n",
    "a = np.round(sk.confusion_matrix(np.argmax(y,axis=1),np.argmax(final, axis=1)))\n",
    "b = sk.accuracy_score(np.argmax(y,axis=1),np.argmax(final, axis=1))\n",
    "print(a)\n",
    "print(np.sum(a))\n",
    "print(b)"
   ]
  },
  {
   "cell_type": "code",
   "execution_count": 5,
   "metadata": {
    "scrolled": true
   },
   "outputs": [
    {
     "data": {
      "text/plain": [
       "<matplotlib.axes._subplots.AxesSubplot at 0x1feb9534788>"
      ]
     },
     "execution_count": 5,
     "metadata": {},
     "output_type": "execute_result"
    },
    {
     "data": {
      "image/png": "[encoded data removed]",
      "text/plain": [
       "<Figure size 720x576 with 2 Axes>"
      ]
     },
     "metadata": {
      "needs_background": "light"
     },
     "output_type": "display_data"
    }
   ],
   "source": [
    "import seaborn as sn\n",
    "import pandas as pd\n",
    "import matplotlib.pyplot as plt\n",
    "\n",
    "df_cm = pd.DataFrame(a, index = [i for i in [\"Healthy\", \"Both\", \"Rust\", \"scab\"]],\n",
    "                  columns = [i for i in [\"Healthy\", \"Both\", \"Rust\", \"scab\"]])\n",
    "# print(df_cm)\n",
    "plt.figure(figsize = (10,8))\n",
    "sn.set(font_scale=1.4)\n",
    "sn.heatmap(df_cm, annot=True, annot_kws={\"size\": 20}, fmt=\"d\")\n",
    "# plt.savefig('C:/Users/emage/OneDrive/Desktop/image.png')"
   ]
  },
  {
   "cell_type": "code",
   "execution_count": 44,
   "metadata": {},
   "outputs": [],
   "source": [
    "from numba import cuda\n",
    "cuda.close()\n"
   ]
  },
  {
   "cell_type": "code",
   "execution_count": 62,
   "metadata": {},
   "outputs": [],
   "source": [
    "img_path = 'C:/Users/emage/OneDrive/Desktop/apple_k/data/train_image/1.jpg'\n",
    "image = cv2.imread(img_path,0)\n",
    "# img = cv2.imread('messi5.jpg',0)\n",
    "edges = cv2.Canny(image,50,200)\n",
    "cv2.namedWindow('image',cv2.WINDOW_NORMAL)\n",
    "\n",
    "cv2.resizeWindow('image', 900,500)\n",
    "# cv2.imshow('image',image)s\n",
    "cv2.imshow('image',edges)\n",
    "\n",
    "\n",
    "\n",
    "cv2.waitKey()\n",
    "cv2.destroyAllWindows()\n",
    "# print(image.shape)"
   ]
  },
  {
   "cell_type": "code",
   "execution_count": 64,
   "metadata": {},
   "outputs": [
    {
     "data": {
      "text/plain": [
       "0.99945085118067"
      ]
     },
     "execution_count": 64,
     "metadata": {},
     "output_type": "execute_result"
    }
   ],
   "source": [
    "1820/1821"
   ]
  }
 ],
 "metadata": {
  "kernelspec": {
   "display_name": "Python 3",
   "language": "python",
   "name": "python3"
  },
  "language_info": {
   "codemirror_mode": {
    "name": "ipython",
    "version": 3
   },
   "file_extension": ".py",
   "mimetype": "text/x-python",
   "name": "python",
   "nbconvert_exporter": "python",
   "pygments_lexer": "ipython3",
   "version": "3.7.6"
  }
 },
 "nbformat": 4,
 "nbformat_minor": 4
}
