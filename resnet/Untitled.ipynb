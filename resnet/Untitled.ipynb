{
 "cells": [
  {
   "cell_type": "code",
   "execution_count": 42,
   "metadata": {
    "scrolled": true
   },
   "outputs": [
    {
     "name": "stdout",
     "output_type": "stream",
     "text": [
      "Epoch 1/10\n",
      "142/142 [==============================] - 29s 201ms/step - loss: 1.3713 - accuracy: 0.4225 - val_loss: 1.5475 - val_accuracy: 0.3325\n",
      "Epoch 2/10\n",
      "142/142 [==============================] - 27s 194ms/step - loss: 1.0832 - accuracy: 0.5712 - val_loss: 1.2794 - val_accuracy: 0.3375\n",
      "Epoch 3/10\n",
      "142/142 [==============================] - 31s 222ms/step - loss: 1.0283 - accuracy: 0.5884 - val_loss: 1.4235 - val_accuracy: 0.0925\n",
      "Epoch 4/10\n",
      "142/142 [==============================] - 32s 227ms/step - loss: 0.9819 - accuracy: 0.6135 - val_loss: 1.2046 - val_accuracy: 0.2750\n",
      "Epoch 5/10\n",
      "142/142 [==============================] - 31s 222ms/step - loss: 0.8892 - accuracy: 0.6448 - val_loss: 1.3675 - val_accuracy: 0.2325\n",
      "Epoch 6/10\n",
      "142/142 [==============================] - 32s 228ms/step - loss: 0.8963 - accuracy: 0.6635 - val_loss: 1.3041 - val_accuracy: 0.2775\n",
      "Epoch 7/10\n",
      "142/142 [==============================] - 32s 229ms/step - loss: 0.9957 - accuracy: 0.6307 - val_loss: 1.3622 - val_accuracy: 0.2725\n",
      "Epoch 8/10\n",
      "142/142 [==============================] - 33s 232ms/step - loss: 0.8438 - accuracy: 0.6808 - val_loss: 1.2194 - val_accuracy: 0.2775\n",
      "Epoch 9/10\n",
      "142/142 [==============================] - 34s 236ms/step - loss: 0.8827 - accuracy: 0.6526 - val_loss: 1.2119 - val_accuracy: 0.2800\n",
      "Epoch 10/10\n",
      "142/142 [==============================] - 32s 228ms/step - loss: 0.8468 - accuracy: 0.6854 - val_loss: 1.3183 - val_accuracy: 0.2775\n"
     ]
    }
   ],
   "source": [
    "import numpy as np\n",
    "\n",
    "import tensorflow as tf\n",
    "\n",
    "from data_processing import *\n",
    "import keras\n",
    "import keras.backend as K\n",
    "\n",
    "from keras.optimizers import Adam,SGD\n",
    "from keras.callbacks import TensorBoard, ModelCheckpoint,ReduceLROnPlateau\n",
    "from keras.preprocessing.image import ImageDataGenerator\n",
    "\n",
    "from sklearn.model_selection import train_test_split\n",
    "\n",
    "from model import ResNet50\n",
    "\n",
    "def _main():\n",
    "    image_path = 'C:/Users/emage/OneDrive/Desktop/apple_k/data/train_image/'\n",
    "    labels_path = 'C:/Users/emage/OneDrive/Desktop/apple_k/data/train.csv'\n",
    "    csv = pd.read_csv(labels_path)\n",
    "    image_named = np.array(csv['image_id'])\n",
    "    y = csv.loc[:, 'healthy':].values\n",
    "    \n",
    "    train ,val, y_train,y_val = train_test_split(image_named, y, test_size = 0.22, random_state = 42, shuffle = True)\n",
    "\n",
    "    freeze = 1\n",
    "\n",
    "    # step = 607\n",
    "    num_train = 1420\n",
    "    num_val = 401\n",
    "    \n",
    "    log_dir = 'log/imageNet/letter_image_Relu_only_Dense/'\n",
    "    check_path(log_dir)\n",
    "    weights_path = 'imageNet'\n",
    "\n",
    "    model = ResNet50(weights = 'imageNet')\n",
    "    \n",
    "    \n",
    "    # # temporary use Adam and\n",
    "    adam = Adam(lr = 0.001)\n",
    "    # logging = TensorBoard(log_dir=log_dir)\n",
    "    checkpoint = ModelCheckpoint(log_dir + 'ep{epoch:03d}-loss{loss:.3f}-val_loss{val_loss:.3f}.h5',\n",
    "        monitor='val_loss', save_weights_only=True, save_best_only=True, mode = 'min')\n",
    "   \n",
    "    reduce_lr = ReduceLROnPlateau(monitor='val_loss', factor=0.1, patience=5, verbose=1, min_lr = 1e-6)\n",
    "\n",
    "\n",
    "    # Freeze FC layers\n",
    "    for i in range((len(model.layers)-freeze)):\n",
    "        model.layers[i].trainable = False\n",
    "\n",
    "    # model.compile(optimizer = adam, \n",
    "    #             loss = 'categorical_crossentropy',\n",
    "    #             # loss = [categorical_focal_loss(alpha=.25, gamma=2)],\n",
    "    #             metrics = ['accuracy'])\n",
    "    model.compile(optimizer = adam, \n",
    "            loss = 'categorical_crossentropy',\n",
    "            metrics = ['accuracy'])\n",
    "\n",
    "    batch_size  = 10\n",
    "    \n",
    "    history = model.fit_generator(train_generator(image_path, train, batch_size, y_train, num_train),\n",
    "        epochs = 10, \n",
    "        steps_per_epoch = num_train//batch_size, \n",
    "        validation_data = val_generator(image_path, val, batch_size, y_val, num_val),\n",
    "        validation_steps = num_val//batch_size,\n",
    "        initial_epoch = 0,\n",
    "        verbose = 1,\n",
    "        callbacks=[checkpoint])\n",
    "    model.save_weights(log_dir+'model.h5')\n",
    "    import pickle\n",
    "    with open('history', 'wb') as f:\n",
    "        pickle.dump(history.history, f)\n",
    "\n",
    "\n",
    "def check_path(path):\n",
    "    os.makedirs(path) if not os.path.exists(path) else None\n",
    "\n",
    "if __name__ == \"__main__\":\n",
    "    h = _main()"
   ]
  },
  {
   "cell_type": "code",
   "execution_count": 23,
   "metadata": {},
   "outputs": [
    {
     "name": "stdout",
     "output_type": "stream",
     "text": [
      "{'val_loss': [2.093095541000366], 'val_accuracy': [0.2800000011920929], 'loss': [1.2988779242609587], 'accuracy': [0.45774648]}\n",
      "<class 'numpy.float32'>\n"
     ]
    }
   ],
   "source": [
    "import json\n",
    "print(h.history)\n",
    "print(type(h.history['accuracy'][0]))\n",
    "# with open('history.json', 'w') as f:\n",
    "#     json.dump(h.history,f)\n",
    "import pickle\n",
    "with open('history', 'wb') as f:\n",
    "    pickle.dump(h.history, f)"
   ]
  },
  {
   "cell_type": "code",
   "execution_count": 43,
   "metadata": {},
   "outputs": [],
   "source": [
    "\n",
    "a = pickle.load(open('history','rb'))"
   ]
  },
  {
   "cell_type": "code",
   "execution_count": 44,
   "metadata": {},
   "outputs": [
    {
     "data": {
      "text/plain": [
       "{'val_loss': [1.5474756956100464,\n",
       "  1.2793667316436768,\n",
       "  1.423488736152649,\n",
       "  1.2045801877975464,\n",
       "  1.3674927949905396,\n",
       "  1.3040878772735596,\n",
       "  1.3621649742126465,\n",
       "  1.2194452285766602,\n",
       "  1.2119163274765015,\n",
       "  1.3183153867721558],\n",
       " 'val_accuracy': [0.33250001072883606,\n",
       "  0.3375000059604645,\n",
       "  0.0925000011920929,\n",
       "  0.2750000059604645,\n",
       "  0.23250000178813934,\n",
       "  0.2775000035762787,\n",
       "  0.27250000834465027,\n",
       "  0.2775000035762787,\n",
       "  0.2800000011920929,\n",
       "  0.2775000035762787],\n",
       " 'loss': [1.371321764630331,\n",
       "  1.083157848829115,\n",
       "  1.0283325197516193,\n",
       "  0.9819496081433665,\n",
       "  0.8892142077461934,\n",
       "  0.896329088267726,\n",
       "  0.9956779001464306,\n",
       "  0.8438075865343423,\n",
       "  0.8826559870700601,\n",
       "  0.8468351330818005],\n",
       " 'accuracy': [0.4225352,\n",
       "  0.571205,\n",
       "  0.5884194,\n",
       "  0.6134585,\n",
       "  0.64475745,\n",
       "  0.6635368,\n",
       "  0.63067293,\n",
       "  0.68075114,\n",
       "  0.65258217,\n",
       "  0.685446]}"
      ]
     },
     "execution_count": 44,
     "metadata": {},
     "output_type": "execute_result"
    }
   ],
   "source": [
    "a"
   ]
  }
 ],
 "metadata": {
  "kernelspec": {
   "display_name": "Python 3",
   "language": "python",
   "name": "python3"
  },
  "language_info": {
   "codemirror_mode": {
    "name": "ipython",
    "version": 3
   },
   "file_extension": ".py",
   "mimetype": "text/x-python",
   "name": "python",
   "nbconvert_exporter": "python",
   "pygments_lexer": "ipython3",
   "version": "3.7.6"
  }
 },
 "nbformat": 4,
 "nbformat_minor": 4
}
