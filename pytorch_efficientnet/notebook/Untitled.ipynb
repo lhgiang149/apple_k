{
 "cells": [
  {
   "cell_type": "code",
   "execution_count": 6,
   "metadata": {},
   "outputs": [],
   "source": [
    "import pandas as pd\n",
    "import numpy as np\n",
    "from sklearn.model_selection import train_test_split\n",
    "\n",
    "\n",
    "df = pd.read_csv('/home/giang/Desktop/plant-pathology-2020-fgvc7/train.csv')\n",
    "# print(df.head())\n",
    "label = []\n",
    "a_df = np.array(df)\n",
    "\n",
    "for line in a_df:\n",
    "    label.append(np.where(line==1)[0][0]-1)\n",
    "\n",
    "name = df.image_id\n",
    "    \n",
    "boxes = {'image_id': name,\n",
    "         'labels': label}\n",
    "\n",
    "dataFrame = pd.DataFrame(boxes)\n",
    "\n",
    "IDs = dataFrame.image_id.to_list()\n",
    "labels = dataFrame.labels.to_list()\n",
    "train ,val, y_train,y_val = train_test_split(IDs, labels, test_size = 0.2, random_state = 42, shuffle = True)\n"
   ]
  },
  {
   "cell_type": "code",
   "execution_count": 7,
   "metadata": {},
   "outputs": [
    {
     "name": "stdout",
     "output_type": "stream",
     "text": [
      "1456\n",
      "365\n",
      "1456\n",
      "365\n"
     ]
    }
   ],
   "source": [
    "print(len(train))\n",
    "print(len(val))\n",
    "print(len(y_train))\n",
    "print(len(y_val))"
   ]
  },
  {
   "cell_type": "code",
   "execution_count": 19,
   "metadata": {},
   "outputs": [
    {
     "name": "stdout",
     "output_type": "stream",
     "text": [
      "[ True False False ...  True False  True]\n"
     ]
    },
    {
     "data": {
      "text/plain": [
       "(1, 1, 1, 1)"
      ]
     },
     "execution_count": 19,
     "metadata": {},
     "output_type": "execute_result"
    }
   ],
   "source": [
    "\n",
    "def extractLabelsNums(y):\n",
    "    y = np.array(y)\n",
    "    print(np.wherey==2)\n",
    "    class0 = np.where(y==0)\n",
    "    class1 = np.where(y==1)\n",
    "    class2 = np.where(y==2)\n",
    "    class3 = np.where(y==3)\n",
    "    return len(class0), len(class1), len(class2), len(class3)\n",
    "extractLabelsNums(y_train)"
   ]
  }
 ],
 "metadata": {
  "kernelspec": {
   "display_name": "Python 3",
   "language": "python",
   "name": "python3"
  },
  "language_info": {
   "codemirror_mode": {
    "name": "ipython",
    "version": 3
   },
   "file_extension": ".py",
   "mimetype": "text/x-python",
   "name": "python",
   "nbconvert_exporter": "python",
   "pygments_lexer": "ipython3",
   "version": "3.6.9"
  }
 },
 "nbformat": 4,
 "nbformat_minor": 4
}
