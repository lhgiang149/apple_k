{
 "cells": [
  {
   "cell_type": "code",
   "execution_count": 6,
   "metadata": {},
   "outputs": [],
   "source": [
    "import pandas as pd\n",
    "import numpy as np\n",
    "from sklearn.model_selection import train_test_split\n",
    "\n",
    "\n",
    "df = pd.read_csv('/home/giang/Desktop/plant-pathology-2020-fgvc7/train.csv')\n",
    "# print(df.head())\n",
    "label = []\n",
    "a_df = np.array(df)\n",
    "\n",
    "for line in a_df:\n",
    "    label.append(np.where(line==1)[0][0]-1)\n",
    "\n",
    "name = df.image_id\n",
    "    \n",
    "boxes = {'image_id': name,\n",
    "         'labels': label}\n",
    "\n",
    "dataFrame = pd.DataFrame(boxes)\n",
    "\n",
    "IDs = dataFrame.image_id.to_list()\n",
    "labels = dataFrame.labels.to_list()\n",
    "train ,val, y_train,y_val = train_test_split(IDs, labels, test_size = 0.2, random_state = 42, shuffle = True)\n"
   ]
  },
  {
   "cell_type": "code",
   "execution_count": 7,
   "metadata": {},
   "outputs": [
    {
     "name": "stdout",
     "output_type": "stream",
     "text": [
      "1456\n",
      "365\n",
      "1456\n",
      "365\n"
     ]
    }
   ],
   "source": [
    "print(len(train))\n",
    "print(len(val))\n",
    "print(len(y_train))\n",
    "print(len(y_val))"
   ]
  },
  {
   "cell_type": "code",
   "execution_count": 19,
   "metadata": {},
   "outputs": [
    {
     "name": "stdout",
     "output_type": "stream",
     "text": [
      "[ True False False ...  True False  True]\n"
     ]
    },
    {
     "data": {
      "text/plain": [
       "(1, 1, 1, 1)"
      ]
     },
     "execution_count": 19,
     "metadata": {},
     "output_type": "execute_result"
    }
   ],
   "source": [
    "\n",
    "def extractLabelsNums(y):\n",
    "    y = np.array(y)\n",
    "    print(np.wherey==2)\n",
    "    class0 = np.where(y==0)\n",
    "    class1 = np.where(y==1)\n",
    "    class2 = np.where(y==2)\n",
    "    class3 = np.where(y==3)\n",
    "    return len(class0), len(class1), len(class2), len(class3)\n",
    "extractLabelsNums(y_train)"
   ]
  },
  {
   "cell_type": "code",
   "execution_count": 35,
   "metadata": {},
   "outputs": [
    {
     "name": "stdout",
     "output_type": "stream",
     "text": [
      "[False  True False False]\n"
     ]
    },
    {
     "data": {
      "text/plain": [
       "0.25"
      ]
     },
     "execution_count": 35,
     "metadata": {},
     "output_type": "execute_result"
    }
   ],
   "source": [
    "import numpy as np\n",
    "\n",
    "temp = [[0.2388601,  0.23554276, 0.2805922,  0.24500495],\n",
    " [0.25035995, 0.27317065, 0.25899142, 0.21747795],\n",
    " [0.2560388 , 0.26381588, 0.24825904, 0.2318863 ],\n",
    " [0.26799977, 0.26863286, 0.23195203, 0.2314154 ]]\n",
    "y_true = np.array([0,1,2,3])\n",
    "temp = np.argmax(temp,axis = 1)\n",
    "print(temp==y_true)\n",
    "def accuracy(y_true, predict):\n",
    "    return np.round(sum(y_true == predict)/(y_true.shape[0]),4)\n",
    "# print(np.argmax(temp,axis = 1).shape[0])\n",
    "accuracy(y_true, temp)"
   ]
  },
  {
   "cell_type": "code",
   "execution_count": null,
   "metadata": {},
   "outputs": [],
   "source": []
  },
  {
   "cell_type": "code",
   "execution_count": 24,
   "metadata": {},
   "outputs": [
    {
     "data": {
      "image/png": "[encoded data removed]",
      "text/plain": [
       "<Figure size 720x576 with 2 Axes>"
      ]
     },
     "metadata": {},
     "output_type": "display_data"
    }
   ],
   "source": [
    "from matplotlib import pyplot as plt\n",
    "import pandas as pd\n",
    "import sklearn.metrics as sk\n",
    "import seaborn as sn\n",
    "\n",
    "def confusion_matrix(y_true, predict_score, class_name, save_path):\n",
    "    \n",
    "#     y_true = np.reshape(y_true, [max(y_true.shape)])\n",
    "#     predict_score = np.reshape(predict_score, [max(predict_score.shape)])\n",
    "#     predict = predict_score > 0.5\n",
    "    confusion = np.round(sk.confusion_matrix(y_true,predict_score))\n",
    "    df_cm = pd.DataFrame(confusion, index = class_name,\n",
    "                    columns = class_name)\n",
    "    plt.figure(figsize = (10,8))\n",
    "    sn.set(font_scale=1.4)\n",
    "    sn.heatmap(df_cm, annot=True, annot_kws={\"size\": 20}, fmt=\"d\")\n",
    "    plt.xlabel('Prediction')\n",
    "    plt.ylabel('Ground Truth')\n",
    "    plt.savefig(save_path)\n",
    "    \n",
    "class_name = ['Healthy','Both','Rust','Scab']\n",
    "y_true = np.array([0,1,2,3])\n",
    "temp = [[0.2388601,  0.23554276, 0.2805922,  0.24500495],\n",
    " [0.25035995, 0.27317065, 0.25899142, 0.21747795],\n",
    " [0.2560388 , 0.26381588, 0.24825904, 0.2318863 ],\n",
    " [0.26799977, 0.26863286, 0.23195203, 0.2314154 ]]\n",
    "temp = np.argmax(temp,axis = 1)\n",
    "confusion_matrix(y_true, temp, class_name, '')"
   ]
  },
  {
   "cell_type": "code",
   "execution_count": null,
   "metadata": {},
   "outputs": [],
   "source": []
  }
 ],
 "metadata": {
  "kernelspec": {
   "display_name": "Python 3",
   "language": "python",
   "name": "python3"
  },
  "language_info": {
   "codemirror_mode": {
    "name": "ipython",
    "version": 3
   },
   "file_extension": ".py",
   "mimetype": "text/x-python",
   "name": "python",
   "nbconvert_exporter": "python",
   "pygments_lexer": "ipython3",
   "version": "3.7.9"
  }
 },
 "nbformat": 4,
 "nbformat_minor": 4
}
